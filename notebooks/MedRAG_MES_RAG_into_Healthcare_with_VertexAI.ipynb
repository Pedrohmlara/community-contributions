{
  "nbformat": 4,
  "nbformat_minor": 0,
  "metadata": {
    "colab": {
      "provenance": [],
      "authorship_tag": "ABX9TyP3DZtH1A9kdaj2azoMp+1C",
      "include_colab_link": true
    },
    "kernelspec": {
      "name": "python3",
      "display_name": "Python 3"
    },
    "language_info": {
      "name": "python"
    }
  },
  "cells": [
    {
      "cell_type": "markdown",
      "metadata": {
        "id": "view-in-github",
        "colab_type": "text"
      },
      "source": [
        "<a href=\"https://colab.research.google.com/github/Pedrohmlara/community-contributions/blob/main/notebooks/MedRAG_MES_RAG_into_Healthcare_with_VertexAI.ipynb\" target=\"_parent\"><img src=\"https://colab.research.google.com/assets/colab-badge.svg\" alt=\"Open In Colab\"/></a>"
      ]
    },
    {
      "cell_type": "markdown",
      "source": [
        "# Entity-Centric RAG for Healthcare: Implementing MES-RAG & MedRAG Principles with Vertex AI and HPO to Address Entity Confusion\n",
        "\n",
        "This colab addresses the \"Confusion Among Similar Entities\" (CASE) problem in RAG systems, where LLMs mix information from related entities like patients with similar symptoms. We implement entity-centric retrieval principles from MES-RAG and MedRAG frameworks using Vertex AI Gemini and the Human Phenotype Ontology (HPO) to demonstrate how structured, entity-aware approaches improve diagnostic accuracy by maintaining clear boundaries between medical entities."
      ],
      "metadata": {
        "id": "EHxrIWHtsThn"
      }
    },
    {
      "cell_type": "markdown",
      "source": [
        "#### References\n",
        "- [MES-RAG: Bringing Multi-modal, Entity-Storage, and Secure Enhancements to RAG](https://https://arxiv.org/abs/2503.13563)\n",
        "- [MedRAG: Enhancing Retrieval-augmented Generation with Knowledge Graph-Elicited Reasoning for Healthcare Copilot\n",
        "](https://arxiv.org/abs/2502.04413)\n",
        "- [Human Phenotype Ontology](https://hpo.jax.org/)"
      ],
      "metadata": {
        "id": "AJXU4xZGwKvC"
      }
    },
    {
      "cell_type": "markdown",
      "source": [
        "#### Configuration\n",
        "Configure in the Secrets tab here in Colab, the following variables from your GCP Account:\n",
        "- **PROJECT_ID**\n",
        "- **LOCATION** (ex: us-central1)\n",
        "\n",
        "**Important:**\n",
        "- Enable the Vertex AI in the APIs & Services section inside [Google Cloud Platform](https://console.cloud.google.com/).\n",
        "- Enable billing into your project inside [GCP](https://console.cloud.google.com/) as well."
      ],
      "metadata": {
        "id": "AthzfvqDymJB"
      }
    },
    {
      "cell_type": "code",
      "source": [
        "from google.colab import auth, userdata\n",
        "from vertexai.generative_models import GenerativeModel, Part, FinishReason, GenerationConfig\n",
        "import vertexai\n",
        "import os\n",
        "import sys\n",
        "\n",
        "\n",
        "auth.authenticate_user()\n",
        "\n",
        "PROJECT_ID = userdata.get('PROJECT_ID')\n",
        "LOCATION = userdata.get('LOCATION')\n",
        "\n",
        "vertexai.init(project=PROJECT_ID, location=LOCATION)\n",
        "!pip install google-cloud-aiplatform chromadb tiktoken -q"
      ],
      "metadata": {
        "collapsed": true,
        "id": "Van7QLqBx-z-"
      },
      "execution_count": 119,
      "outputs": []
    },
    {
      "cell_type": "code",
      "source": [
        "import chromadb\n",
        "from chromadb.utils import embedding_functions\n",
        "from vertexai.language_models import TextEmbeddingModel, TextGenerationModel\n",
        "import json\n",
        "import time\n",
        "import requests"
      ],
      "metadata": {
        "id": "k2CNGn440FoB"
      },
      "execution_count": 120,
      "outputs": []
    },
    {
      "cell_type": "markdown",
      "source": [
        "#### Sample Pacient Data\n",
        "\n",
        "We will load the patient data from the provided [sample](https://raw.githubusercontent.com/Pedrohmlara/community-contributions/refs/heads/main/datasets/pacients_dataset.json) on GitHub.\n",
        "\n",
        "This patient data is structured as list of individual patient record. Each record contains an `patient_id`, `record_text` (Description of the patient's medical history and symptoms) and `potential_diagnosis_notes` (Notes about a possible diagnosis based on the patient's information).\n"
      ],
      "metadata": {
        "id": "MIeAAGhO2W_A"
      }
    },
    {
      "cell_type": "code",
      "source": [
        "patients_data_url = \"https://raw.githubusercontent.com/Pedrohmlara/community-contributions/refs/heads/main/dataset/pacients_dataset.json\"\n",
        "\n",
        "response = requests.get(patients_data_url)\n",
        "response.raise_for_status()\n",
        "patients_data = response.json()\n",
        "print(patients_data)"
      ],
      "metadata": {
        "colab": {
          "base_uri": "https://localhost:8080/"
        },
        "id": "sGFsTDLbOv-H",
        "outputId": "326ff13f-3cd0-4017-d0ba-56a087df254c"
      },
      "execution_count": 121,
      "outputs": [
        {
          "output_type": "stream",
          "name": "stdout",
          "text": [
            "{'patients': [{'patient_id': 'P001', 'record_text': 'Patient, 74 years old, male, presents with right lower back pain radiating to the right lower limb, with numbness in both feet. Reports that the pain worsens when standing or walking for long distances, but feels significant relief when sitting or leaning forward. Denies fever or weight loss. History of controlled hypertension.', 'potential_diagnosis_notes': 'Suspected lumbar spinal stenosis due to postural relief.'}, {'patient_id': 'P002', 'record_text': 'Patient, 45 years old, female, complains of acute lower back pain that started after lifting a heavy object. The pain radiates to the buttock and posterior aspect of the left thigh, down to the foot. States that the pain worsens when sitting for prolonged periods and when coughing or sneezing. Slightly improves with walking. Denies significant recent trauma.', 'potential_diagnosis_notes': 'Suggestive of sciatica, possibly due to a herniated disc, due to worsening симптоms when sitting.'}, {'patient_id': 'P003', 'record_text': 'Patient, 68 years old, reports progressively blurred vision in both eyes over the past few months, especially at night or in low-light environments. Denies eye pain. Mentions difficulty reading small print and seeing halos around lights.', 'potential_diagnosis_notes': 'Symptoms suggestive of a refractive error or lens opacity.'}]}\n"
          ]
        }
      ]
    },
    {
      "cell_type": "markdown",
      "source": [
        "#### Loading the Knowledge Graph (KG) from the HPO JSON file\n",
        "\n",
        "The KG will provide structured information from the Human Phenotype Ontology to assist Gemini in differential reasoning.\n",
        "\n",
        "> *Disclaimer: This is a modified and simplified version of the original HPO data. The data has been processed, categorized and restructured for demonstration purposes. For official and complete data, see: https://hpo.jax.org/*"
      ],
      "metadata": {
        "id": "zSfvw5tSQgK0"
      }
    },
    {
      "cell_type": "code",
      "source": [
        "diagnostic_kg_url = \"https://raw.githubusercontent.com/Pedrohmlara/community-contributions/refs/heads/main/dataset/human_phenotype_ontology_%5BKG-reduced%5D.json\"\n",
        "\n",
        "response = requests.get(diagnostic_kg_url)\n",
        "response.raise_for_status()\n",
        "diagnostic_kg = response.json()\n",
        "print(diagnostic_kg)"
      ],
      "metadata": {
        "colab": {
          "base_uri": "https://localhost:8080/"
        },
        "id": "YIz0GpKGQr9z",
        "outputId": "38f645d4-04e3-43f3-ca06-e60197290ad5"
      },
      "execution_count": 122,
      "outputs": [
        {
          "output_type": "stream",
          "name": "stdout",
          "text": [
            "{'Oral synechia': {'common_symptoms': ['Oral fibrous bands'], 'differentiating_symptoms': ['Synechiae of the mouth'], 'description': 'Fibrous band between the mucosal surfaces of the upper and lower alveolar ridges. These bands must be distinguished from synechiaee between the tongue and palate (glossopalatal ankylosis) and from syn...', 'hpo_id': '0010285', 'related_terms': ['Oral fibrous bands', 'Synechiae of the mouth'], 'category': 'general'}, 'Patchy sclerosis of thumb phalanx': {'common_symptoms': ['Patchy sclerosis of the phalanges of the thumb'], 'differentiating_symptoms': ['Uneven increase in bone density in thumb bone'], 'description': 'An uneven increase in bone density of one or more of the phalanges of the thumb.', 'hpo_id': '0009655', 'related_terms': ['Patchy sclerosis of the phalanges of the thumb', 'Uneven increase in bone density in thumb bone'], 'category': 'musculoskeletal'}, 'Reduced leukocyte alkaline phosphatase': {'common_symptoms': ['Low leukocyte alkaline phosphatase'], 'differentiating_symptoms': ['Reduced leukocyte ALP'], 'description': 'Decreased alkaline phosphatase measured within leukocytes.', 'hpo_id': '0004852', 'related_terms': ['Low leukocyte alkaline phosphatase', 'Reduced leukocyte ALP'], 'category': 'general'}, 'Aplasia/Hypoplasia of the vagina': {'common_symptoms': ['Absent/small vagina'], 'differentiating_symptoms': ['Absent/underdeveloped vagina'], 'description': 'Aplasia or developmental hypoplasia of the vagina.', 'hpo_id': '0011026', 'related_terms': ['Absent/small vagina', 'Absent/underdeveloped vagina'], 'category': 'neurological'}, 'Hypoprolinemia': {'common_symptoms': ['Decreased blood proline levels'], 'differentiating_symptoms': ['Low blood proline concentration'], 'description': 'A decreased amount of proline in the blood.', 'hpo_id': '0500139', 'related_terms': ['Decreased blood proline levels', 'Low blood proline concentration'], 'category': 'general'}, 'Eosinophilic infiltration of the esophagus': {'common_symptoms': ['Eosinophilic esophagitis'], 'differentiating_symptoms': ['Eosinophilic infiltration of the esophagus'], 'description': 'Infiltration of numerous eosinophils (usually greater than 15 per high power field) into the squamous epithelium of the esophagus, and layering of eosinophils on the surface layer of the esophagus.', 'hpo_id': '0410151', 'related_terms': ['Eosinophilic esophagitis', 'Eosinophilic infiltration of the esophagus'], 'category': 'general'}, 'Areflexia': {'common_symptoms': ['Absent reflexes', 'Absent deep tendon reflexes', 'Absent tendon reflexes'], 'differentiating_symptoms': ['Deep tendon reflexes absent', 'Loss of deep tendon reflexes', 'Lost deep tendon reflexes'], 'description': 'Absence of neurologic reflexes such as the knee-jerk reaction. The stretch reflexes (also called deep tendon reflexes) include the knee-jerk reflex (patellar reflex, the biceps reflex, the triceps ref...', 'hpo_id': '0001284', 'related_terms': ['Absent reflexes', 'Absent deep tendon reflexes', 'Absent tendon reflexes'], 'category': 'neurological'}, 'Neoplasm of the pancreas': {'common_symptoms': ['Cancer of the pancreas', 'Pancreatic cancer', 'Neoplasia of the pancreas'], 'differentiating_symptoms': ['Pancreatic tumor', 'Pancreatic tumour', 'increased risk of pancreatic cancer'], 'description': 'A tumor (abnormal growth of tissue) of the pancreas.', 'hpo_id': '0002894', 'related_terms': ['Cancer of the pancreas', 'Pancreatic cancer', 'Neoplasia of the pancreas'], 'category': 'endocrine'}, 'Thick vermilion border': {'common_symptoms': ['Full lips', 'Increased volume of lip', 'Increased volume of lip vermillion'], 'differentiating_symptoms': ['Plump lips', 'Prominent lips', 'Thick lips'], 'description': 'Increased width of the skin of vermilion border region of upper lip.', 'hpo_id': '0012471', 'related_terms': ['Full lips', 'Increased volume of lip', 'Increased volume of lip vermillion'], 'category': 'dermatological'}, 'Bifid femur': {'common_symptoms': ['Notched thighbone'], 'differentiating_symptoms': ['Split thighbone'], 'description': 'A bifid or bifurcated appearance of the femur as seen on x-rays, possible appearing as a more or less severe bowing of the upper leg. Might be associated with hip dysplasia on the affected side.', 'hpo_id': '0010443', 'related_terms': ['Notched thighbone', 'Split thighbone'], 'category': 'sensory'}, 'Anonychia': {'common_symptoms': ['Absent nails'], 'differentiating_symptoms': ['Aplastic nails'], 'description': 'Aplasia of the nail. Total absence of nails.', 'hpo_id': '0001798', 'related_terms': ['Absent nails', 'Aplastic nails'], 'category': 'dermatological'}, 'Subpulmonary stenosis': {'common_symptoms': ['Infundibular pulmonary stenosis', 'Infundibular pulmonic stenosis', 'Subvalvar pulmonary stenosis'], 'differentiating_symptoms': ['Subvalvar pulmonic stenosis', 'Subvalvular pulmonary stenosis', 'Subvalvular pulmonic stenosis'], 'description': 'A cardiovascular malformation associated with narrowing of the outflow tract of the right ventricle immediately below the pulmonary valve.', 'hpo_id': '0034348', 'related_terms': ['Infundibular pulmonary stenosis', 'Infundibular pulmonic stenosis', 'Subvalvar pulmonary stenosis'], 'category': 'cardiovascular'}, 'Knee pain': {'common_symptoms': ['Pain under knee cap', 'Knee pain'], 'differentiating_symptoms': [], 'description': 'An unpleasant sensation characterized by physical discomfort (such as pricking, throbbing, or aching) localized to the knee.', 'hpo_id': '0030839', 'related_terms': [], 'category': 'general'}, 'Bilateral basilar pulmonary fibrosis': {'common_symptoms': ['Lung disease with systemic sclerosis'], 'differentiating_symptoms': ['Scleroderma lung disease', 'Scleroderma of lung'], 'description': 'It is a bilateral reticular pattern of linear or lineonodular densities that are most pronounced in basilar portions of the lungs on standard chest x-ray. It is the third minor criterion for scleroder...', 'hpo_id': '0550005', 'related_terms': ['Lung disease with systemic sclerosis', 'Scleroderma lung disease', 'Scleroderma of lung'], 'category': 'respiratory'}, 'Proximal/middle symphalangism of 4th toe': {'common_symptoms': ['Fused innermost and middle bones of 4th toe'], 'differentiating_symptoms': ['Symphalangism of the middle and proximal phalanges of the 4th toe'], 'description': 'Bony fusion of the middle and proximal phalanges of the 4th toe.', 'hpo_id': '0100481', 'related_terms': ['Fused innermost and middle bones of 4th toe', 'Symphalangism of the middle and proximal phalanges of the 4th toe'], 'category': 'general'}, 'Almond-shaped palpebral fissure': {'common_symptoms': ['Almond shaped eyes'], 'differentiating_symptoms': ['Almond-shaped opening between the eyelids'], 'description': 'A shape created by an acute downward arching of the upper eyelid and upward arching of the lower eyelid, toward the medial canthus, which gives the outline of the palpebral fissures the configuration ...', 'hpo_id': '0007874', 'related_terms': ['Almond shaped eyes', 'Almond-shaped opening between the eyelids'], 'category': 'sensory'}, 'Renal neoplasm': {'common_symptoms': ['Kidney cancer', 'Neoplasia of the kidneys'], 'differentiating_symptoms': ['Renal tumors', 'Renal tumours', 'Renal neoplasia'], 'description': 'The presence of a neoplasm of the kidney.', 'hpo_id': '0009726', 'related_terms': ['Kidney cancer', 'Neoplasia of the kidneys', 'Renal tumors'], 'category': 'gastrointestinal'}, 'Punctal stenosis': {'common_symptoms': ['Lacrimal punctum stenosis'], 'differentiating_symptoms': ['Stenosis of the lacrimal punctum'], 'description': 'Punctal stenosis is a condition in which the external opening of the lacrimal canaliculus is narrowed or occluded. Epiphora is a common complaint encountered by ophthalmologists, with a broad differen...', 'hpo_id': '0025572', 'related_terms': ['Lacrimal punctum stenosis', 'Stenosis of the lacrimal punctum'], 'category': 'general'}, 'Posterior plagiocephaly': {'common_symptoms': ['Deformational posterior plagiocephaly'], 'differentiating_symptoms': ['Occipital plagiocephaly'], 'description': 'Asymmetry of the posterior part of the skull. Anterior plagiocephaly may have synostotic or non-synostotic causes.', 'hpo_id': '0011327', 'related_terms': ['Deformational posterior plagiocephaly', 'Occipital plagiocephaly'], 'category': 'general'}, 'Corner fracture of metaphysis': {'common_symptoms': ['Bucket handle fracture'], 'differentiating_symptoms': ['Metaphyseal corner fracture'], 'description': 'Fracture or fragmentation at the lateral portion of the metaphysis of a long bone. The radiographic appearance is that of a small corner of metaphysis separated from the metaphyseal edge by thin linea...', 'hpo_id': '0003908', 'related_terms': ['Bucket handle fracture', 'Metaphyseal corner fracture'], 'category': 'musculoskeletal'}, 'Fetal procarbazine exposure': {'common_symptoms': ['Maternal procarbazine exposure'], 'differentiating_symptoms': ['Procarbazine exposure during gestation'], 'description': 'A history of exposure during pregnancy of the mother of a fetus or child to procarbazine.', 'hpo_id': '0034845', 'related_terms': ['Maternal procarbazine exposure', 'Procarbazine exposure during gestation'], 'category': 'general'}, 'Parietal foramina': {'common_symptoms': ['Persistent foramina of the parietal bones', 'Symmetrical, oval defects in the parietal bone'], 'differentiating_symptoms': ['Symmetrical, oval parietal bone defects', 'Holes in parietal bones', 'Openings in parietal bones'], 'description': 'The presence of symmetrical and circular openings (foramina) in the parietal bone ranging in size from a few millimeters to several centimeters wide. Enlarged parietal foramina is an inherited conditi...', 'hpo_id': '0002697', 'related_terms': ['Persistent foramina of the parietal bones', 'Symmetrical, oval defects in the parietal bone', 'Symmetrical, oval parietal bone defects'], 'category': 'musculoskeletal'}, 'Abnormal mast cell morphology': {'common_symptoms': ['Abnormality of mast cells', 'Abnormality of mastocytes'], 'differentiating_symptoms': [], 'description': 'Any structural anomaly of mast cells, which are found in almost all tissues and contain numerous basophilic granules and are capable of releasing large amounts of histamine and heparin upon activation...', 'hpo_id': '0100494', 'related_terms': [], 'category': 'general'}, 'Fundic gland polyposis': {'common_symptoms': ['Fundic gland polyps'], 'differentiating_symptoms': ['Gastric polyposis', 'Proximal polyposis of the stomach'], 'description': 'Multiple polyps in the acid-secreting mucosa of the gastric body and fundus. Fundic gland polyps (FGP) are usually 1 to 5 mm in size, though larger polyps have been found. FGPs are typically sessile, ...', 'hpo_id': '0033769', 'related_terms': ['Fundic gland polyps', 'Gastric polyposis', 'Proximal polyposis of the stomach'], 'category': 'general'}, 'Deviated nasal tip': {'common_symptoms': ['Asymmetry of nasal tip', 'Asymmetry of tip of nose', 'Crooked nasal tip', 'Crooked tip of nose'], 'differentiating_symptoms': ['Deviated nasal tip', 'Deviated tip of nose', 'Nasal tip, deviated', 'Distortion of the nasal tip'], 'description': 'Nasal tip positioned to one side of the midline. There is no specific minimal angle before the tip can be determined to be deviated. The assessment of a mild degree of deviation is highly dependant on...', 'hpo_id': '0011831', 'related_terms': ['Asymmetry of nasal tip', 'Asymmetry of tip of nose', 'Crooked nasal tip'], 'category': 'general'}, 'Prominent umbilicus': {'common_symptoms': ['Prominent belly button'], 'differentiating_symptoms': ['Prominent navel'], 'description': 'Abnormally prominent umbilicus (belly button).', 'hpo_id': '0001544', 'related_terms': ['Prominent belly button', 'Prominent navel'], 'category': 'general'}, 'Bronchial wall thickening': {'common_symptoms': ['Peribronchial cuffing'], 'differentiating_symptoms': ['Peribronchial thickening'], 'description': 'Radiological appearance of increased density around the walls of a bronchus or large bronchiole. This feature is thought to be related to edema involving the bronchial wall as well as the peribronchia...', 'hpo_id': '0033542', 'related_terms': ['Peribronchial cuffing', 'Peribronchial thickening'], 'category': 'respiratory'}, 'Underdeveloped antitragus': {'common_symptoms': ['Hypoplastic antitragus'], 'differentiating_symptoms': ['Hypotrophic antitragus', 'Small antitragus'], 'description': 'Reduction in the anterosuperior prominence of the area between the bottom of the incisura and the inner margin of the antihelix.', 'hpo_id': '0011251', 'related_terms': ['Hypoplastic antitragus', 'Hypotrophic antitragus', 'Small antitragus'], 'category': 'general'}, 'Decreased CD8+ TEMRA T cell proportion': {'common_symptoms': ['Decreased proportion effector memory CD8-positive, alpha-beta T cells, terminally differentiated'], 'differentiating_symptoms': ['Decreased proportion of CD8-positive TEMRA T cells'], 'description': 'An decreased proportion of CD8-positive effector memory RA TEMRA T cells compared to the total number of T cells in the blood. These cells have the phenotype CD45RA-positive, CD45RO-negative, and CCR7...', 'hpo_id': '0500266', 'related_terms': ['Decreased proportion effector memory CD8-positive, alpha-beta T cells, terminally differentiated', 'Decreased proportion of CD8-positive TEMRA T cells'], 'category': 'general'}, 'Infra-orbital crease': {'common_symptoms': ['Crease in skin under the eye', 'Groove in skin under the eye'], 'differentiating_symptoms': ['Infraorbital crease', 'Infraorbital creases', 'Underorbital skin creases'], 'description': 'Skin crease extending from below the inner canthus laterally along the malar process of the maxilla and zygoma. This feature is often found in the presence of hypoplasia of the malar process of the ma...', 'hpo_id': '0100876', 'related_terms': ['Crease in skin under the eye', 'Groove in skin under the eye', 'Infraorbital crease'], 'category': 'dermatological'}, 'Myofiber disarray': {'common_symptoms': ['Myocardial fiber disarray'], 'differentiating_symptoms': ['Myocardial fibre disarray'], 'description': 'A nonparallel arrangement of cardiac myocytes. The presence of a sufficient quantity of myocardial fibers showing this change is considered to be a specific histological feature of hypertrophic cardio...', 'hpo_id': '0031318', 'related_terms': ['Myocardial fiber disarray', 'Myocardial fibre disarray'], 'category': 'cardiovascular'}, 'Parageusia': {'common_symptoms': ['Altered sense of taste', 'Dysgeusia'], 'differentiating_symptoms': ['Metallic taste', 'Metallic taste in mouth'], 'description': 'A distortion of the sense of taste, often characterized by the sensation of a metallic taste.', 'hpo_id': '0031249', 'related_terms': ['Altered sense of taste', 'Dysgeusia', 'Metallic taste'], 'category': 'general'}, 'Broad proximal phalanges of the hand': {'common_symptoms': ['Broad innermost finger bones of the hand'], 'differentiating_symptoms': ['Wide innermost finger bones of the hand'], 'description': 'Increased width of the proximal phalanges of the finger.', 'hpo_id': '0009852', 'related_terms': ['Broad innermost finger bones of the hand', 'Wide innermost finger bones of the hand'], 'category': 'general'}, 'Vestibular schwannoma': {'common_symptoms': ['Acoustic Neuroma', 'Vestibular Schwann cell tumor', 'Vestibular Schwann cell tumour'], 'differentiating_symptoms': ['Vestibular neurilemmoma', 'Vestibular neurinoma', 'Vestibular neurolemmoma'], 'description': 'A vestibular schwannoma (also known as acoustic neuroma, acoustic neurinoma, or acoustic neurilemoma) is a benign, usually slow-growing tumor that develops from the VIIIth cranial nerve supplying the ...', 'hpo_id': '0009588', 'related_terms': ['Acoustic Neuroma', 'Vestibular Schwann cell tumor', 'Vestibular Schwann cell tumour'], 'category': 'sensory'}, 'Limited ankle dorsiflexion': {'common_symptoms': ['Heel cord tightness'], 'differentiating_symptoms': ['Tight heel cord'], 'description': 'Reduced ability to move the foot up toward the shin.', 'hpo_id': '0033526', 'related_terms': ['Heel cord tightness', 'Tight heel cord'], 'category': 'general'}, 'Cataract': {'common_symptoms': ['Cataracts', 'Clouding of the lens of the eye'], 'differentiating_symptoms': ['Cloudy lens', 'Lens opacities', 'Lens opacity'], 'description': 'A cataract is an opacity or clouding that develops in the crystalline lens of the eye or in its capsule. Note that some ophthalmologists call any opacity in the lens a cataract, while others restrict ...', 'hpo_id': '0000518', 'related_terms': ['Cataracts', 'Clouding of the lens of the eye', 'Cloudy lens'], 'category': 'sensory'}, 'Appendicular spasticity': {'common_symptoms': ['Extremity spasticity', 'Limb spasticity', 'Spastic extremities', 'Spastic limb'], 'differentiating_symptoms': ['Spastic limbs', 'Spasticity of extremities', 'Spasticity of extremity', 'Spasticity of limbs'], 'description': 'A type of spasticity that affects one or more limbs (arms or legs).', 'hpo_id': '0034353', 'related_terms': ['Extremity spasticity', 'Limb spasticity', 'Spastic extremities'], 'category': 'musculoskeletal'}, 'Supernumerary cusp': {'common_symptoms': ['Additional cusp'], 'differentiating_symptoms': ['Extra cusp'], 'description': 'Additional cusps of a dental crown. The crown is the part of the tooth that is visible in the oral cavity. Supernumerary cusps can occur on any tooth with cusps. Canines possess a single cusp, premola...', 'hpo_id': '0033777', 'related_terms': ['Additional cusp', 'Extra cusp'], 'category': 'general'}, 'Acute kidney injury': {'common_symptoms': [], 'differentiating_symptoms': ['Acute kidney failure', 'Acute renal failure'], 'description': 'Sudden loss of renal function, as manifested by decreased urine production, and a rise in serum creatinine or blood urea nitrogen concentration (azotemia). Acute renal failure is usually classified in...', 'hpo_id': '0001919', 'related_terms': ['AKI'], 'category': 'gastrointestinal'}, 'Diverticulosis of trachea': {'common_symptoms': ['Tracheal diverticulosis', 'Tracheal diverticulum'], 'differentiating_symptoms': ['Tracheocele', 'Paratracheal air cyst'], 'description': 'Tracheal diverticula are blind-ended outpouchings arising from the trachea. They are usually an incidental finding. Occasionally they can mimic pneumomediastinum. Tracheal diverticula are either conge...', 'hpo_id': '0006509', 'related_terms': ['Tracheal diverticulosis', 'Tracheal diverticulum', 'Tracheocele'], 'category': 'developmental'}, 'Mediastinal lymphadenopathy': {'common_symptoms': ['Swollen lymph nodes in center of chest'], 'differentiating_symptoms': ['Swollen lymph nodes in centre of chest'], 'description': 'Swelling of lymph nodes within the mediastinum, the central compartment of the thoracic cavities that contains the heart and the great vessels, the esophagus, and trachea and other structures includin...', 'hpo_id': '0100721', 'related_terms': ['Swollen lymph nodes in center of chest', 'Swollen lymph nodes in centre of chest'], 'category': 'cardiovascular'}, 'Addictive methylphenidate use': {'common_symptoms': ['Methylphenidate addiction'], 'differentiating_symptoms': ['Methylphenidate dependence'], 'description': 'Addiction to methylphenidate. Methylphenidate is used to treat attention deficit hyperactivity disorder.', 'hpo_id': '0033518', 'related_terms': ['Methylphenidate addiction', 'Methylphenidate dependence'], 'category': 'general'}, 'Radial dysplasia': {'common_symptoms': ['Radial longitudinal deficiency'], 'differentiating_symptoms': [], 'description': 'Radial dysplasia, also known as radial longitudinal deficiency, includes radial clubhand and is a disfiguring, and potentially disabling, congenital limb anomaly. The entire upper limb may be involved...', 'hpo_id': '0006433', 'related_terms': ['Dysplastic radii'], 'category': 'musculoskeletal'}, 'Abnormal suspensory ligament of lens morphology': {'common_symptoms': ['Abnormality of the suspensory ligament of lens', \"Abnormality of zinn's membrane\", 'Ciliary zonule abnormality', 'Zonule of zinn abnormality'], 'differentiating_symptoms': [], 'description': 'An anomaly of the suspensory ligament of lens, also known as the ciliary zonule. These ligaments represent a series of fibers connecting the ciliary body and lens of the eye, holding the lens in place...', 'hpo_id': '0012628', 'related_terms': [], 'category': 'sensory'}, 'Narrow uvula': {'common_symptoms': ['Narrow palatine uvula'], 'differentiating_symptoms': ['Thin uvula'], 'description': 'Decreased width of the uvula.', 'hpo_id': '0010811', 'related_terms': ['Narrow palatine uvula', 'Thin uvula'], 'category': 'general'}, 'Abnormal lacrimal bone morphology': {'common_symptoms': ['Anomaly of the lacrimal bone'], 'differentiating_symptoms': ['Deformity of the lacrimal bone', 'Malformation of the lacrimal bone'], 'description': 'An abnormality of the lacrimal bone.', 'hpo_id': '0430002', 'related_terms': ['Anomaly of the lacrimal bone', 'Deformity of the lacrimal bone', 'Malformation of the lacrimal bone'], 'category': 'musculoskeletal'}, 'Abnormality of extrapyramidal motor function': {'common_symptoms': ['Extrapyramidal dysfunction'], 'differentiating_symptoms': [], 'description': 'A neurological condition related to lesions of the basal ganglia leading to typical abnormalities including akinesia (inability to initiate changes in activity and perform volitional movements rapidly...', 'hpo_id': '0002071', 'related_terms': ['Extrapyramidal signs', 'Extrapyramidal symptoms', 'Extrapyramidal syndrome'], 'category': 'neurological'}, 'Cerebellar edema': {'common_symptoms': ['Cerebellar edema'], 'differentiating_symptoms': ['Edema of the cerebellum', 'Oedema of the cerebellum'], 'description': 'Swelling from fluid accumulation (serous fluid infiltration into the interstitial space) in the cerebellum. Cerebellar edama can manifest on magnetic resonance imaging as hyperintense T2 and FLAIR sig...', 'hpo_id': '0030915', 'related_terms': ['Cerebellar edema', 'Edema of the cerebellum', 'Oedema of the cerebellum'], 'category': 'general'}, 'Anal pain': {'common_symptoms': ['Anal pain', 'Anorectal pain', 'Rectal pain'], 'differentiating_symptoms': [], 'description': 'Pain in and around the anus or rectum (perianal region).', 'hpo_id': '0500005', 'related_terms': ['Proctalgia'], 'category': 'general'}, 'Lower limb muscle weakness': {'common_symptoms': ['Leg weakness', 'Lower extremity weakness'], 'differentiating_symptoms': ['Lower limb muscle weakness', 'Lower limb weakness', 'Muscle weakness in lower limbs'], 'description': 'Weakness of the muscles of the legs. Inability to perform rapid, alternating movements.', 'hpo_id': '0007340', 'related_terms': ['Leg weakness', 'Lower extremity weakness', 'Lower limb muscle weakness'], 'category': 'musculoskeletal'}, 'Antepartum hemorrhage': {'common_symptoms': ['Antepartum haemorrhage'], 'differentiating_symptoms': ['Prepartum haemorrhage', 'Prepartum hemorrhage'], 'description': 'Significant maternal hemorrhage/bleed in the second half of pregnancy and prior to the birth of the baby.', 'hpo_id': '0025328', 'related_terms': ['Antepartum haemorrhage', 'Prepartum haemorrhage', 'Prepartum hemorrhage'], 'category': 'developmental'}, 'Curved 2nd toe phalanx': {'common_symptoms': ['Curved bones of the 2nd toe'], 'differentiating_symptoms': ['Curved phalanges of the 2nd toe'], 'description': 'A deviation from the normal straight form of one or more phalanges of the second toe.', 'hpo_id': '0010350', 'related_terms': ['Curved bones of the 2nd toe', 'Curved phalanges of the 2nd toe'], 'category': 'general'}, 'Decreased erythrocyte sedimentation rate': {'common_symptoms': ['Decreased ESR'], 'differentiating_symptoms': ['Low ESR'], 'description': 'A reduced erythrocyte sedimentation rate (ESR). The ESR is a test that measures the distance that erythrocytes have fallen after one hour in a vertical column of anticoagulated blood under the influen...', 'hpo_id': '0025022', 'related_terms': ['Decreased ESR', 'Low ESR'], 'category': 'general'}, 'Narrow foot': {'common_symptoms': ['Narrow foot'], 'differentiating_symptoms': ['Slender feet'], 'description': 'A foot for which the measured width is below the 5th centile for age; or, a foot that appears disproportionately narrow for its length.', 'hpo_id': '0001786', 'related_terms': ['Narrow foot', 'Slender feet'], 'category': 'sensory'}, 'Hyperactivity': {'common_symptoms': ['Hyperactive behavior', 'Hyperactive behaviour'], 'differentiating_symptoms': ['Hyperkinetic disorder', 'More active than typical', 'hyperkinetic disorder'], 'description': 'Hyperactivity is a condition characterized by constant and unusually high levels of activity, even in situations where it is deemed inappropriate.', 'hpo_id': '0000752', 'related_terms': ['Hyperactive behavior', 'Hyperactive behaviour', 'Hyperkinetic disorder'], 'category': 'general'}, 'Glenoid fossa hypoplasia': {'common_symptoms': ['Glenoid hypoplasia'], 'differentiating_symptoms': ['Hypoplastic glenoid fossa'], 'description': 'Underdevelopment of the glenoid fossa, which is the cavity in the lateral part of the scapula which articulates with the head of the humerus.', 'hpo_id': '0006633', 'related_terms': ['Glenoid hypoplasia', 'Hypoplastic glenoid fossa'], 'category': 'developmental'}, 'Dialeptic seizure': {'common_symptoms': ['Behavioral arrest seizure with impairment of awareness irrespective of onset', 'Behavioural arrest seizure with impairment of awareness irrespective of onset'], 'differentiating_symptoms': ['Unknown onset behavioral arrest seizure with impairment of awareness', 'Unknown onset behavioural arrest seizure with impairment of awareness'], 'description': 'A dialeptic seizure is a type of seizure characterized predominantly by reduced responsiveness or awareness and with subsequent at least partial amnesia of the event. The main ictal manifestation of d...', 'hpo_id': '0011146', 'related_terms': ['Behavioral arrest seizure with impairment of awareness irrespective of onset', 'Behavioural arrest seizure with impairment of awareness irrespective of onset', 'Unknown onset behavioral arrest seizure with impairment of awareness'], 'category': 'neurological'}, 'Triggered by heavy meal': {'common_symptoms': ['Heavy meal triggered symptoms'], 'differentiating_symptoms': ['Triggered by overeating'], 'description': 'Applies to a sign or symptom that is provoked or brought about by eating large quantities of food, for instance, by a heavy meal.', 'hpo_id': '0025216', 'related_terms': ['Heavy meal triggered symptoms', 'Triggered by overeating'], 'category': 'general'}, 'Right ventricular failure': {'common_symptoms': ['Impaired right ventricular function'], 'differentiating_symptoms': ['Right ventricular impairment', 'Right-sided heart failure'], 'description': 'Reduced ability of the right ventricle to perform its function (to receive blood from the right atrium and to eject blood into the pulmonary artery), often leading to pitting peripheral edema, ascites...', 'hpo_id': '0001708', 'related_terms': ['Impaired right ventricular function', 'Right ventricular impairment', 'Right-sided heart failure'], 'category': 'respiratory'}, 'Intra-oral hyperpigmentation': {'common_symptoms': ['Hyperpigmentation of oral mucosa', 'Oral mucosa melanin pigmentation', 'Oral racial pigmentation', 'Dark color of gums'], 'differentiating_symptoms': ['Dark colour of gums', 'Gingival hyperpigmentation', 'Gingival melanin pigmentation', 'Pigmented gums'], 'description': 'Increased pigmentation, either focal or generalized, of the mucosa of the mouth. Pigmentation of alveolar ridges is common in people with dark skin pigmentation. This term encompasses a range of pigme...', 'hpo_id': '0010284', 'related_terms': ['Hyperpigmentation of oral mucosa', 'Oral mucosa melanin pigmentation', 'Oral racial pigmentation'], 'category': 'general'}}\n"
          ]
        }
      ]
    },
    {
      "cell_type": "markdown",
      "source": [
        "#### Defining our Embedding Model and Function\n",
        "\n"
      ],
      "metadata": {
        "id": "vPQfDQ80SQtG"
      }
    },
    {
      "cell_type": "code",
      "source": [
        "VERTEX_EMBEDDING_MODEL_NAME = \"text-embedding-005\"\n",
        "embedding_model_vertex = TextEmbeddingModel.from_pretrained(VERTEX_EMBEDDING_MODEL_NAME)\n",
        "\n",
        "class VertexAIEmbeddingFunction(embedding_functions.EmbeddingFunction):\n",
        "    def __init__(self, model, batch_size=5, sleep_time=0.2):\n",
        "        if model is None:\n",
        "            raise ValueError(\"Embedding model was not loaded. Please check the configuration.\")\n",
        "        self.model = model\n",
        "        self.batch_size = batch_size\n",
        "        self.sleep_time = sleep_time\n",
        "\n",
        "    def __call__(self, input_texts: chromadb.Documents) -> chromadb.Embeddings:\n",
        "        embeddings_list = []\n",
        "        for i in range(0, len(input_texts), self.batch_size):\n",
        "            batch = input_texts[i:i + self.batch_size]\n",
        "            try:\n",
        "                embeddings_response = self.model.get_embeddings(batch)\n",
        "                embeddings_list.extend([emb.values for emb in embeddings_response])\n",
        "                if self.sleep_time > 0 and i + self.batch_size < len(input_texts):\n",
        "                    time.sleep(self.sleep_time)\n",
        "            except Exception as e:\n",
        "                print(f\"Error generating embedding for batch: {batch}. Error: {e}\")\n",
        "                embeddings_list.extend([[0.0] * 768] * len(batch))\n",
        "        return embeddings_list\n",
        "\n",
        "vertex_chroma_embedding_function = VertexAIEmbeddingFunction(embedding_model_vertex)"
      ],
      "metadata": {
        "id": "tGqfTxfpSjiL"
      },
      "execution_count": 123,
      "outputs": []
    },
    {
      "cell_type": "markdown",
      "source": [
        "#### Defining our Metadata Extraction Model and function\n",
        "\n",
        "Instead of manually defining all metadatas, we can leverage Gemini to extract relevant information from the patient records. This aligns with creating a more dynamic and intelligent \"Entity-centric Data Construction (EDC)\" module as envisioned in MES-RAG."
      ],
      "metadata": {
        "id": "ohfa57rcYuzz"
      }
    },
    {
      "cell_type": "code",
      "source": [
        "DEFAUTL_MODEL_NAME = \"gemini-2.0-flash-001\"\n",
        "llm_extraction_model = GenerativeModel(DEFAUTL_MODEL_NAME)\n",
        "\n",
        "def extract_metadata_with_llm(patient_id:str, record_text: str):\n",
        "    prompt = f\"\"\"\n",
        "      Analyze the following patient record and extract the specified information in JSON format.\n",
        "      The output MUST be only the JSON object, without any surrounding text or markdown.\n",
        "\n",
        "      Patient Record:\n",
        "      ---\n",
        "      {record_text}\n",
        "      ---\n",
        "\n",
        "      Extract:\n",
        "      1.  \"main_symptoms_list\": A list of up to 3-4 key symptoms described.\n",
        "      2.  \"potential_conditions_list\": A list of up to 2-3 potential conditions or diagnoses explicitly mentioned or strongly implied.\n",
        "      3.  \"record_date_iso\": If a date is mentioned for the record/visit, format it as YYYY-MM-DD. If not found, use \"N/A\".\n",
        "      4.  \"age_years\": The patient's age in years, if mentioned (as an integer). If not found, use null.\n",
        "      5.  \"gender\": The patient's gender (\"male\", \"female\", \"other\", or \"N/A\" if not mentioned).\n",
        "\n",
        "      JSON Output:\n",
        "      \"\"\"\n",
        "\n",
        "    generation_config_extraction = GenerationConfig(\n",
        "        temperature=0.1,\n",
        "        max_output_tokens=256,\n",
        "    )\n",
        "\n",
        "    response = llm_extraction_model.generate_content(\n",
        "        prompt,\n",
        "        generation_config=generation_config_extraction,\n",
        "    )\n",
        "\n",
        "    json_str = response.text.strip().replace(\"```json\", \"\").replace(\"```\", \"\").strip()\n",
        "    extracted = json.loads(json_str)\n",
        "\n",
        "    default_values = {\n",
        "        \"main_symptoms_list\": [],\n",
        "        \"potential_conditions_list\": [],\n",
        "        \"record_date_iso\": \"N/A\",\n",
        "        \"age_years\": None,\n",
        "        \"gender\": \"N/A\"\n",
        "    }\n",
        "\n",
        "    for key, default in default_values.items():\n",
        "            extracted.setdefault(key, default)\n",
        "\n",
        "    return extracted\n",
        "\n",
        "\n",
        "if patients_data:\n",
        "    sample_patient_for_meta_extraction = patients_data['patients'][0]\n",
        "    print(f\"\\n--- Testing Metadata Extraction for Patient {sample_patient_for_meta_extraction.get('patient_id')} ---\")\n",
        "    extracted_meta_sample = extract_metadata_with_llm(\n",
        "        sample_patient_for_meta_extraction.get('patient_id'),\n",
        "        sample_patient_for_meta_extraction.get('record_text')\n",
        "    )\n",
        "    print(json.dumps(extracted_meta_sample, indent=2))"
      ],
      "metadata": {
        "colab": {
          "base_uri": "https://localhost:8080/"
        },
        "id": "SjV71FDhY0nP",
        "outputId": "5df30a82-f2ab-4f4a-fc63-93ea4f3a5201"
      },
      "execution_count": 124,
      "outputs": [
        {
          "output_type": "stream",
          "name": "stdout",
          "text": [
            "\n",
            "--- Testing Metadata Extraction for Patient P001 ---\n",
            "{\n",
            "  \"main_symptoms_list\": [\n",
            "    \"right lower back pain\",\n",
            "    \"pain radiating to right lower limb\",\n",
            "    \"numbness in both feet\"\n",
            "  ],\n",
            "  \"potential_conditions_list\": [\n",
            "    \"spinal stenosis\",\n",
            "    \"sciatica\"\n",
            "  ],\n",
            "  \"record_date_iso\": \"N/A\",\n",
            "  \"age_years\": 74,\n",
            "  \"gender\": \"male\"\n",
            "}\n"
          ]
        }
      ]
    },
    {
      "cell_type": "markdown",
      "source": [
        "#### Populating ChromaDB (Our VectorDB) with LLM-Extracted Metadata (Entity-Storage)\n",
        "\n",
        "Each patient record is stored along with its `patient_id` and the metadata dynamically extracted by Gemini."
      ],
      "metadata": {
        "id": "OC22ugaTTw5u"
      }
    },
    {
      "cell_type": "code",
      "source": [
        "client = chromadb.Client()\n",
        "collection_name = \"patient_mes_rag_storage_vertex\"\n",
        "\n",
        "try:\n",
        "    client.delete_collection(name=collection_name)\n",
        "except:\n",
        "    pass\n",
        "\n",
        "collection = client.create_collection(\n",
        "    name=collection_name,\n",
        "    embedding_function=vertex_chroma_embedding_function\n",
        ")\n",
        "\n",
        "all_documents = []\n",
        "all_metadatas = []\n",
        "all_ids = []\n",
        "\n",
        "print(f\"\\n--- Populating VectorDB with LLM-Extracted Metadata ---\")\n",
        "for i, patient_record in enumerate(patients_data['patients']):\n",
        "    patient_id = patient_record.get(\"patient_id\")\n",
        "    record_text = patient_record.get(\"record_text\")\n",
        "\n",
        "    print(f\"Processing and extracting metadata for patient: {patient_id}...\")\n",
        "    llm_extracted_meta = extract_metadata_with_llm(patient_id, record_text)\n",
        "\n",
        "    # Combine predefined and LLM-extracted metadata\n",
        "    combined_metadata = {\n",
        "        \"patient_id\": patient_id,\n",
        "        \"source_description\": f\"Patient record for {patient_id}\",\n",
        "        \"record_date_iso\": llm_extracted_meta.get(\"record_date_iso\", \"N/A\"),\n",
        "        \"age_years\": llm_extracted_meta.get(\"age_years\"),\n",
        "        \"gender\": llm_extracted_meta.get(\"gender\", \"N/A\"),\n",
        "        \"main_symptoms_str\": \", \".join(llm_extracted_meta.get(\"main_symptoms_list\", [])),\n",
        "        \"potential_conditions_str\": \", \".join(llm_extracted_meta.get(\"potential_conditions_list\", []))\n",
        "    }\n",
        "\n",
        "    all_documents.append(record_text)\n",
        "    all_metadatas.append(combined_metadata)\n",
        "    all_ids.append(f\"record_llm_meta_{patient_id}_{i}\")\n",
        "    time.sleep(0.5)\n",
        "\n",
        "if all_documents:\n",
        "    collection.add(\n",
        "        documents=all_documents,\n",
        "        metadatas=all_metadatas,\n",
        "        ids=all_ids\n",
        "    )\n",
        "    print(f\"\\nAdded {len(all_documents)} documents with LLM-extracted metadata to collection '{collection_name}'.\")\n",
        "else:\n",
        "    print(\"No documents were prepared to be added to the collection.\")\n",
        "\n",
        "print(f\"Total documents in collection: {collection.count()}\")"
      ],
      "metadata": {
        "colab": {
          "base_uri": "https://localhost:8080/"
        },
        "id": "493GTazdT7Ra",
        "outputId": "e638b27c-5578-46e7-8c54-51bee6e88b79"
      },
      "execution_count": 125,
      "outputs": [
        {
          "output_type": "stream",
          "name": "stdout",
          "text": [
            "\n",
            "--- Populating VectorDB with LLM-Extracted Metadata ---\n",
            "Processing and extracting metadata for patient: P001...\n",
            "Processing and extracting metadata for patient: P002...\n",
            "Processing and extracting metadata for patient: P003...\n",
            "\n",
            "Added 3 documents with LLM-extracted metadata to collection 'patient_mes_rag_storage_vertex'.\n",
            "Total documents in collection: 3\n"
          ]
        }
      ]
    },
    {
      "cell_type": "markdown",
      "source": [
        "#### Demonstrating the Problem: Naive RAG (Leading to Entity Confusion) or CASE (Confusion Among Similar Entities)\n",
        "\n",
        "Here, we simulate a scenario where the RAG system retrieves context naively, potentially mixing information from different patients, leading to confusion.\n"
      ],
      "metadata": {
        "id": "UfEp-IAvkYAn"
      }
    },
    {
      "cell_type": "code",
      "source": [
        "rag_llm_model = GenerativeModel(DEFAUTL_MODEL_NAME)\n",
        "\n",
        "def get_naive_rag_context(query_text: str, k_results: int = 2):\n",
        "    results = collection.query(\n",
        "        query_texts=[query_text],\n",
        "        n_results=min(k_results, collection.count())\n",
        "    )\n",
        "\n",
        "    if results['documents']:\n",
        "        context_str = \"\\n\\n\".join(\n",
        "            [f\"Patient ID (from metadata): {meta.get('patient_id', 'Unknown')}\\nContent: {doc}\"\n",
        "             for doc, meta in zip(results['documents'][0], results['metadatas'][0])]\n",
        "        )\n",
        "        return context_str\n",
        "    return \"No relevant context found with naive retrieval.\"\n",
        "\n",
        "def get_llm_rag_response(prompt_text: str):\n",
        "    if not rag_llm_model: return \"RAG LLM not initialized.\"\n",
        "    generation_config_rag = GenerationConfig(temperature=0.2, max_output_tokens=512)\n",
        "    response = rag_llm_model.generate_content(\n",
        "        prompt_text,\n",
        "        generation_config=generation_config_rag\n",
        "    )\n",
        "    if response.candidates and response.candidates[0].finish_reason == FinishReason.STOP:\n",
        "        return response.text\n",
        "    return f\"RAG Response Generation stopped or failed. Reason: {response.candidates[0].finish_reason if response.candidates else 'Unknown'}.\"\n",
        "\n",
        "\n",
        "confusing_query_symptoms = \"lower back pain radiating to the leg\"\n",
        "print(f\"\\n--- DEMONSTRATING PROBLEM ---\")\n",
        "print(f\"Symptoms: {confusing_query_symptoms}\")\n",
        "\n",
        "retrieved_naive_context = get_naive_rag_context(confusing_query_symptoms, k_results=2)\n",
        "print(\"\\n--- RETRIEVED CONTEXT (Potential CASE) ---\")\n",
        "print(retrieved_naive_context)\n",
        "\n",
        "prompt_for_naive_rag = f\"\"\"\n",
        "  You are a medical assistant.\n",
        "  Analyze the following retrieved patient records. These records MIGHT BE FROM DIFFERENT PATIENTS.\n",
        "\n",
        "  Retrieved Records:\n",
        "  {retrieved_naive_context}\n",
        "\n",
        "  Question:\n",
        "  A patient presents with \"lower back pain radiating to the leg\". Based strictly on the (potentially mixed) records above, what is the most likely diagnosis and key differentiating factor?\n",
        "  If the records show conflicting information for such a patient, highlight it.\n",
        "\n",
        "  Strict Analysis based *only* on provided records:\n",
        "  \"\"\"\n",
        "\n",
        "print(\"\\n--- MODEL RESPONSE (EXPECTING CONFUSION/INCORRECT SYNTHESIS) ---\")\n",
        "response_naive_rag = get_llm_rag_response(prompt_for_naive_rag)\n",
        "\n",
        "print(response_naive_rag)"
      ],
      "metadata": {
        "colab": {
          "base_uri": "https://localhost:8080/"
        },
        "id": "PGasVxqelFQi",
        "outputId": "0ab13841-6151-4fbb-b6fe-5708bb033b80"
      },
      "execution_count": 126,
      "outputs": [
        {
          "output_type": "stream",
          "name": "stdout",
          "text": [
            "\n",
            "--- DEMONSTRATING PROBLEM ---\n",
            "Symptoms: lower back pain radiating to the leg\n",
            "\n",
            "--- RETRIEVED CONTEXT (Potential CASE) ---\n",
            "Patient ID (from metadata): P002\n",
            "Content: Patient, 45 years old, female, complains of acute lower back pain that started after lifting a heavy object. The pain radiates to the buttock and posterior aspect of the left thigh, down to the foot. States that the pain worsens when sitting for prolonged periods and when coughing or sneezing. Slightly improves with walking. Denies significant recent trauma.\n",
            "\n",
            "Patient ID (from metadata): P001\n",
            "Content: Patient, 74 years old, male, presents with right lower back pain radiating to the right lower limb, with numbness in both feet. Reports that the pain worsens when standing or walking for long distances, but feels significant relief when sitting or leaning forward. Denies fever or weight loss. History of controlled hypertension.\n",
            "\n",
            "--- MODEL RESPONSE (EXPECTING CONFUSION/INCORRECT SYNTHESIS) ---\n",
            "Based solely on the provided patient records, the most likely broad diagnosis for a patient presenting with \"lower back pain radiating to the leg\" is **Sciatica or Lumbar Radiculopathy**.\n",
            "\n",
            "**Key Differentiating Factors (and Conflicts):**\n",
            "\n",
            "*   **Age:** The records show patients of significantly different ages (45 and 74). This is important as certain conditions are more prevalent in specific age groups.\n",
            "*   **Pain Location and Radiation:** Both patients have pain radiating to the leg, but the specific location differs. P002's pain radiates to the buttock, posterior thigh, and foot (left side). P001's pain radiates to the entire right lower limb, with numbness in *both* feet. The bilateral numbness is a significant difference.\n",
            "*   **Aggravating and Relieving Factors:** This is where the most significant conflict arises:\n",
            "    *   P002: Pain worsens with sitting, coughing/sneezing, and improves with walking.\n",
            "    *   P001: Pain worsens with standing/walking, and improves with sitting/leaning forward.\n",
            "*   **Other Symptoms:** P001 reports numbness in both feet, which is not mentioned in P002's record.\n",
            "*   **History:** P002 reports lifting a heavy object. P001 has a history of controlled hypertension.\n",
            "\n",
            "**Conflict Summary:**\n",
            "\n",
            "The most significant conflict is in the aggravating and relieving factors. One patient's pain is relieved by sitting, while the other's is worsened. This suggests potentially different underlying causes, even though both present with lower back pain radiating to the leg. The presence of bilateral numbness in P001 also sets them apart.\n",
            "\n"
          ]
        }
      ]
    },
    {
      "cell_type": "markdown",
      "source": [
        "#### Advanced Query Parsing with LLM (MES-RAG Principle)\n",
        "\n",
        "To make the RAG system more robust and user-friendly, we need to automatically identify the target entity (e.g., patient) from the user's query. The MES-RAG framework proposes a Query Parser (QP) module for this. Here, we'll implement a simple version using Gemini."
      ],
      "metadata": {
        "id": "fan8NYpEq0fN"
      }
    },
    {
      "cell_type": "code",
      "source": [
        "query_parser_llm = GenerativeModel(DEFAUTL_MODEL_NAME)\n",
        "\n",
        "def query_parser(user_query: str):\n",
        "    \"\"\"\n",
        "    Parses the user query to extract target patient ID (if any),\n",
        "    descriptive attributes of an entity mentioned in the query,\n",
        "    core symptoms/question, and potential HPO terms.\n",
        "    \"\"\"\n",
        "\n",
        "    prompt = f\"\"\"\n",
        "      You are an advanced query understanding system for a medical RAG.\n",
        "      Your task is to analyze the user's query and extract key information into a structured JSON format.\n",
        "      The output MUST be only the JSON object, without any surrounding text or markdown.\n",
        "\n",
        "      Available Patient ID patterns in the system generally look like: \"P001\", \"P002\", etc.\n",
        "\n",
        "      User Query: \"{user_query}\"\n",
        "\n",
        "      Extraction Tasks:\n",
        "      1.  \"target_patient_id\":\n",
        "          - If a Patient ID matching the known patterns (e.g., \"P001\") is explicitly mentioned, extract that ID.\n",
        "          - If multiple such IDs are mentioned (e.g., for comparison), extract them as a list.\n",
        "          - If no explicit Patient ID is found, return null.\n",
        "\n",
        "      2.  \"entity_descriptive_attributes\":\n",
        "          - If the query describes a patient without giving an ID (or in addition to an ID), extract descriptive attributes.\n",
        "          - Attributes to look for: \"age_approx\" (e.g., \"70\", \"60\") ALWAYS int val, \"gender\" (\"male\", \"female\", \"other\"),\n",
        "            \"key_symptoms_from_query\" (a list of 2-4 main symptoms or complaints mentioned *in the user's query*).\n",
        "          - If no such descriptive attributes are found for an entity, return an empty dictionary {{}}.\n",
        "\n",
        "      3.  \"core_search_phrase\":\n",
        "          - Extract the most relevant phrase or question from the user's query that should be used for a semantic search\n",
        "            against medical records or a knowledge base. This should capture the essence of the user's information need.\n",
        "\n",
        "      4.  \"mentioned_hpo_or_condition_terms\":\n",
        "          - List any medical conditions, HPO-like terms, or specific diseases mentioned in the query.\n",
        "\n",
        "      JSON Output Examples:\n",
        "\n",
        "      Query: \"What is the diagnosis for patient P001 considering their symptoms of lower back pain and issues with standing?\"\n",
        "      Output:\n",
        "      {{\n",
        "        \"target_patient_id\": \"P001\",\n",
        "        \"entity_descriptive_attributes\": {{\n",
        "            \"key_symptoms_from_query\": [\"lower back pain\", \"issues with standing\"]\n",
        "        }},\n",
        "        \"core_search_phrase\": \"diagnosis for lower back pain and issues with standing\",\n",
        "        \"mentioned_hpo_or_condition_terms\": [\"lower back pain\"]\n",
        "      }}\n",
        "\n",
        "      Query: \"A 68 year old male patient reports progressively blurred vision, especially at night, and sees halos around lights. What could it be?\"\n",
        "      Output:\n",
        "      {{\n",
        "        \"target_patient_id\": null,\n",
        "        \"entity_descriptive_attributes\": {{\n",
        "          \"age_approx\": \"68 year old\",\n",
        "          \"gender\": \"male\",\n",
        "          \"key_symptoms_from_query\": [\"progressively blurred vision\", \"difficulty seeing at night\", \"halos around lights\"]\n",
        "        }},\n",
        "        \"core_search_phrase\": \"causes for progressively blurred vision, difficulty seeing at night, and halos around lights in a 68 year old male\",\n",
        "        \"mentioned_hpo_or_condition_terms\": [\"blurred vision\", \"halos around lights\"]\n",
        "      }}\n",
        "\n",
        "      Query: \"Tell me about Areflexia and also Hypoprolinemia.\"\n",
        "      Output:\n",
        "      {{\n",
        "        \"target_patient_id\": null,\n",
        "        \"entity_descriptive_attributes\": {{}},\n",
        "        \"core_search_phrase\": \"information about Areflexia and Hypoprolinemia\",\n",
        "        \"mentioned_hpo_or_condition_terms\": [\"Areflexia\", \"Hypoprolinemia\"]\n",
        "      }}\n",
        "\n",
        "      JSON Output:\n",
        "    \"\"\"\n",
        "    generation_config_parser = GenerationConfig(temperature=0.0, max_output_tokens=512)\n",
        "\n",
        "    response = query_parser_llm.generate_content(\n",
        "        prompt,\n",
        "        generation_config=generation_config_parser\n",
        "    )\n",
        "\n",
        "    json_str = response.text.strip().replace(\"```json\", \"\").replace(\"```\", \"\").strip()\n",
        "    parsed_info = json.loads(json_str)\n",
        "\n",
        "    parsed_info.setdefault(\"target_patient_id\", None)\n",
        "    parsed_info.setdefault(\"entity_descriptive_attributes\", {})\n",
        "    parsed_info[\"entity_descriptive_attributes\"].setdefault(\"key_symptoms_from_query\", [])\n",
        "    parsed_info.setdefault(\"core_search_phrase\", user_query)\n",
        "    parsed_info.setdefault(\"mentioned_hpo_or_condition_terms\", [])\n",
        "\n",
        "    return parsed_info"
      ],
      "metadata": {
        "id": "Prwdqd2Eq_d8"
      },
      "execution_count": 127,
      "outputs": []
    },
    {
      "cell_type": "markdown",
      "source": [
        "#### Testing the Query Parser\n",
        "\n",
        "Let's ensure that our function is working accurately."
      ],
      "metadata": {
        "id": "5yE30tjzwXag"
      }
    },
    {
      "cell_type": "code",
      "source": [
        "queries_for_parser_test = [\n",
        "    \"What is the diagnosis for patient P001 considering their symptoms of lower back pain and issues with standing?\",\n",
        "    \"Tell me about the HPO term Areflexia.\",\n",
        "    \"My patient, a 68 year old man, has progressively blurred vision and sees halos around lights. What could be the cause?\",\n",
        "    \"Compare P002 and P003 regarding their main complaints.\",\n",
        "    \"Any information on headaches for patient P007?\"\n",
        "]\n",
        "\n",
        "for i, t_query in enumerate(queries_for_parser_test):\n",
        "    parsed_output = query_parser(t_query)\n",
        "    print(f\"\\n--- Query Parser Test {i+1} ---\")\n",
        "    print(f\"User Query: \\\"{t_query}\\\"\")\n",
        "    print(f\"Parsed Output: {json.dumps(parsed_output, indent=2)}\")"
      ],
      "metadata": {
        "colab": {
          "base_uri": "https://localhost:8080/"
        },
        "id": "uNSidLg-wbwZ",
        "outputId": "8c172e37-aede-44ee-a94f-10f02c80edbc"
      },
      "execution_count": 128,
      "outputs": [
        {
          "output_type": "stream",
          "name": "stdout",
          "text": [
            "\n",
            "--- Query Parser Test 1 ---\n",
            "User Query: \"What is the diagnosis for patient P001 considering their symptoms of lower back pain and issues with standing?\"\n",
            "Parsed Output: {\n",
            "  \"target_patient_id\": \"P001\",\n",
            "  \"entity_descriptive_attributes\": {\n",
            "    \"key_symptoms_from_query\": [\n",
            "      \"lower back pain\",\n",
            "      \"issues with standing\"\n",
            "    ]\n",
            "  },\n",
            "  \"core_search_phrase\": \"diagnosis for patient with lower back pain and issues with standing\",\n",
            "  \"mentioned_hpo_or_condition_terms\": [\n",
            "    \"lower back pain\"\n",
            "  ]\n",
            "}\n",
            "\n",
            "--- Query Parser Test 2 ---\n",
            "User Query: \"Tell me about the HPO term Areflexia.\"\n",
            "Parsed Output: {\n",
            "  \"target_patient_id\": null,\n",
            "  \"entity_descriptive_attributes\": {\n",
            "    \"key_symptoms_from_query\": []\n",
            "  },\n",
            "  \"core_search_phrase\": \"information about Areflexia\",\n",
            "  \"mentioned_hpo_or_condition_terms\": [\n",
            "    \"Areflexia\"\n",
            "  ]\n",
            "}\n",
            "\n",
            "--- Query Parser Test 3 ---\n",
            "User Query: \"My patient, a 68 year old man, has progressively blurred vision and sees halos around lights. What could be the cause?\"\n",
            "Parsed Output: {\n",
            "  \"target_patient_id\": null,\n",
            "  \"entity_descriptive_attributes\": {\n",
            "    \"age_approx\": 68,\n",
            "    \"gender\": \"male\",\n",
            "    \"key_symptoms_from_query\": [\n",
            "      \"progressively blurred vision\",\n",
            "      \"halos around lights\"\n",
            "    ]\n",
            "  },\n",
            "  \"core_search_phrase\": \"causes of progressively blurred vision and seeing halos around lights\",\n",
            "  \"mentioned_hpo_or_condition_terms\": [\n",
            "    \"blurred vision\",\n",
            "    \"halos around lights\"\n",
            "  ]\n",
            "}\n",
            "\n",
            "--- Query Parser Test 4 ---\n",
            "User Query: \"Compare P002 and P003 regarding their main complaints.\"\n",
            "Parsed Output: {\n",
            "  \"target_patient_id\": [\n",
            "    \"P002\",\n",
            "    \"P003\"\n",
            "  ],\n",
            "  \"entity_descriptive_attributes\": {\n",
            "    \"key_symptoms_from_query\": []\n",
            "  },\n",
            "  \"core_search_phrase\": \"compare main complaints of patients\",\n",
            "  \"mentioned_hpo_or_condition_terms\": []\n",
            "}\n",
            "\n",
            "--- Query Parser Test 5 ---\n",
            "User Query: \"Any information on headaches for patient P007?\"\n",
            "Parsed Output: {\n",
            "  \"target_patient_id\": \"P007\",\n",
            "  \"entity_descriptive_attributes\": {\n",
            "    \"key_symptoms_from_query\": []\n",
            "  },\n",
            "  \"core_search_phrase\": \"information on headaches\",\n",
            "  \"mentioned_hpo_or_condition_terms\": [\n",
            "    \"headaches\"\n",
            "  ]\n",
            "}\n"
          ]
        }
      ]
    },
    {
      "cell_type": "markdown",
      "source": [
        "#### Implementing the Solution: Entity-Centric RAG (MES-RAG/MedRAG Principles)\n",
        "\n",
        "Now we implement the \"Entity-Storage\" approach by isolating patient-specific data through semantic filtering and metadata enrichment, leveraging MES-RAG methodologies. The Human Phenotype Ontology (HPO) knowledge graph is then integrated to ensure focused, accurate, and clinically-relevant context for Gemini's analysis."
      ],
      "metadata": {
        "id": "M0sTX4m0ocnu"
      }
    },
    {
      "cell_type": "code",
      "source": [
        "rag_llm_model = GenerativeModel(DEFAUTL_MODEL_NAME)\n",
        "\n",
        "def get_entity_centric_rag_db_context(target_patient_id: str, semantic_search_text: str, k_results: int = 1):\n",
        "    results = collection.query(\n",
        "        query_texts=[semantic_search_text],\n",
        "        n_results=k_results,\n",
        "        where={\"patient_id\": target_patient_id}\n",
        "    )\n",
        "\n",
        "    if results['documents'] and results['documents'][0]:\n",
        "        metadata_for_context = results['metadatas'][0][0] if results['metadatas'] and results['metadatas'][0] else {}\n",
        "        return metadata_for_context;\n",
        "\n",
        "    return \"\"\n",
        "\n",
        "def get_attribute_based_rag_db_context(descriptive_attrs: dict, semantic_search_text: str, k_results: int = 1):\n",
        "    chroma_filters_list_attr = []\n",
        "\n",
        "    if descriptive_attrs:\n",
        "        gender = descriptive_attrs.get(\"gender\")\n",
        "        if gender and gender != \"N/A\":\n",
        "            chroma_filters_list_attr.append({\"gender\": {\"$eq\": gender}})\n",
        "\n",
        "        age_from_parser = descriptive_attrs.get(\"age_approx\")\n",
        "\n",
        "        if isinstance(age_from_parser, int):\n",
        "            chroma_filters_list_attr.append({\"age_years\": {\"$gte\": age_from_parser - 7}})\n",
        "            chroma_filters_list_attr.append({\"age_years\": {\"$lte\": age_from_parser + 7}})\n",
        "\n",
        "        elif isinstance(age_from_parser, str):\n",
        "            try:\n",
        "                import re\n",
        "                age_numbers = re.findall(r'\\d+', age_from_parser)\n",
        "\n",
        "                if age_numbers:\n",
        "                    age_val = int(age_numbers[0])\n",
        "                    chroma_filters_list_attr.append({\"age_years\": {\"$gte\": age_val - 7}})\n",
        "                    chroma_filters_list_attr.append({\"age_years\": {\"$lte\": age_val + 7}})\n",
        "\n",
        "            except:\n",
        "              pass\n",
        "\n",
        "    final_where_clause = {}\n",
        "    if len(chroma_filters_list_attr) > 1:\n",
        "        final_where_clause = {\"$and\": chroma_filters_list_attr}\n",
        "    elif len(chroma_filters_list_attr) == 1:\n",
        "        final_where_clause = chroma_filters_list_attr[0]\n",
        "\n",
        "    if not final_where_clause:\n",
        "        return \"\"\n",
        "\n",
        "    try:\n",
        "        results = collection.query(\n",
        "            query_texts=[semantic_search_text],\n",
        "            n_results=k_results,\n",
        "            where=final_where_clause\n",
        "        )\n",
        "        if results['documents'] and results['documents'][0]:\n",
        "            matched_pid = results['metadatas'][0][0].get('patient_id', 'Unknown')\n",
        "\n",
        "            return (f\"--- Retrieved Record for Patient {matched_pid} (MATCHED BY DESCRIPTION VIA METADATA FILTERS) ---\\n\"\n",
        "                    f\"Content: {results['documents'][0][0]}\\n\"\n",
        "                    f\"Matched Metadata from DB: {results['metadatas'][0][0]}\")\n",
        "\n",
        "        return \"\"\n",
        "    except:\n",
        "        return \"\"\n",
        "\n",
        "\n",
        "def get_hpo_kg_info_for_rag(hpo_term_keys: list):\n",
        "    kg_details = []\n",
        "    for term_key in hpo_term_keys:\n",
        "        if term_key in diagnostic_kg:\n",
        "            data = diagnostic_kg[term_key]\n",
        "            kg_details.append(\n",
        "                f\"HPO Term: {term_key} (ID: {data.get('hpo_id')})\\n\"\n",
        "                f\"  Description: {data.get('description')}\\n\"\n",
        "                f\"  Common Symptoms: {'; '.join(data.get('common_symptoms', []))}\\n\"\n",
        "                f\"  Differentiating Symptoms: {'; '.join(data.get('differentiating_symptoms', []))}\"\n",
        "            )\n",
        "    if not kg_details: return \"\"\n",
        "\n",
        "    return \"\".join(kg_details)\n",
        "\n",
        "\n",
        "def process_entity_centric_rag_query(user_query_text):\n",
        "    try:\n",
        "        parsed_query_info = query_parser(user_query_text)\n",
        "        if parsed_query_info.get(\"error\"):\n",
        "            return {\n",
        "                \"error\": f\"Error on query parsing: {parsed_query_info['error']}\",\n",
        "                \"analysis\": \"\",\n",
        "                \"thinking_process\": \"\"\n",
        "            }\n",
        "    except Exception as e:\n",
        "        return {\n",
        "            \"error\": f\"Error on query parsing: {str(e)}\",\n",
        "            \"analysis\": \"\",\n",
        "            \"thinking_process\": \"Erro no parsing da query\"\n",
        "        }\n",
        "\n",
        "    target_pids_parsed = parsed_query_info.get(\"target_patient_id\")\n",
        "    descriptive_attrs_parsed = parsed_query_info.get(\"entity_descriptive_attributes\", {})\n",
        "    core_search_text_parsed = parsed_query_info.get(\"core_search_phrase\", user_query_text)\n",
        "    mentioned_hpo_terms_parsed = parsed_query_info.get(\"mentioned_hpo_or_condition_terms\", [])\n",
        "\n",
        "    patient_context_for_llm = \"No specific patient context was identified or retrieved.\"\n",
        "    focused_pid = None\n",
        "\n",
        "    if target_pids_parsed:\n",
        "        pid_to_search = None\n",
        "        if isinstance(target_pids_parsed, list) and target_pids_parsed:\n",
        "            pid_to_search = target_pids_parsed[0]\n",
        "        elif isinstance(target_pids_parsed, str):\n",
        "            pid_to_search = target_pids_parsed\n",
        "\n",
        "        if pid_to_search:\n",
        "            try:\n",
        "                patient_context_for_llm = get_entity_centric_rag_db_context(pid_to_search, core_search_text_parsed)\n",
        "                if not (\"No specific context found\" in patient_context_for_llm or \"Error\" in patient_context_for_llm):\n",
        "                    focused_pid = pid_to_search\n",
        "            except:\n",
        "                pass\n",
        "\n",
        "    kg_context_for_llm = get_hpo_kg_info_for_rag(mentioned_hpo_terms_parsed)\n",
        "\n",
        "    final_rag_prompt_text = f\"\"\"\n",
        "      User's Original Query:\n",
        "      \"{user_query_text}\"\n",
        "\n",
        "      Retrieved Patient Context:\n",
        "      {patient_context_for_llm}\n",
        "\n",
        "      Retrieved HPO KG Information:\n",
        "      {kg_context_for_llm}\n",
        "\n",
        "      Instruction:\n",
        "      You are a specialized medical assistant. Your task is to analyze the provided information and respond to the \"User's Original Query\".\n",
        "      Your response MUST be a single, valid JSON object with exactly two keys: \"analysis\" and \"thinking_process\".\n",
        "      - \"analysis\": Provide a concise answer to the user's query based STRICTLY on the \"Retrieved Patient Context\" (if a specific patient is in focus and context was found) AND/OR the \"Retrieved HPO KG Information\".\n",
        "          - If a specific patient's context is available and relevant, focus your analysis ONLY on that patient.\n",
        "          - If no specific patient context is relevant or successfully retrieved, but HPO information is available, base your analysis on the HPO information.\n",
        "          - If information is insufficient for a direct answer (e.g., patient P007 not found), the \"analysis\" should state this clearly (e.g., \"Cannot provide information for patient P007 as no record was found.\") or be an empty string if no conclusion can be drawn.\n",
        "          - For the query \"lower back pain radiating to the leg\" (if no specific patient context is focused), the \"analysis\" should generally discuss this symptom based on HPO KG info.\n",
        "      - \"thinking_process\": Briefly state what information was primarily used to generate the analysis.\n",
        "          - Example: \"Analysis based on the provided record for Patient P001 and HPO information on Cataract.\"\n",
        "          - Example: \"Analysis based on HPO information for Areflexia as no specific patient context was provided or relevant.\"\n",
        "          - Example: \"No specific patient context or relevant HPO information was found to address the query.\"\n",
        "\n",
        "      JSON Output:\n",
        "      \"\"\"\n",
        "\n",
        "    try:\n",
        "        raw_llm_response_text = get_llm_rag_response(final_rag_prompt_text)\n",
        "        try:\n",
        "            cleaned_response_text = raw_llm_response_text.strip().replace(\"```json\", \"\").replace(\"```\", \"\").strip()\n",
        "            parsed_llm_output = json.loads(cleaned_response_text)\n",
        "        except:\n",
        "            parsed_llm_output = {\n",
        "                \"analysis\": \"Erro ao processar resposta do LLM\",\n",
        "                \"thinking_process\": f\"Erro no parse JSON: {str(e)}\"\n",
        "            }\n",
        "    except:\n",
        "        parsed_llm_output = {\n",
        "            \"analysis\": \"Erro ao obter resposta do LLM\",\n",
        "            \"thinking_process\": f\"Erro na comunicação com LLM: {str(e)}\"\n",
        "        }\n",
        "\n",
        "    parsed_llm_output[\"query\"] = user_query_text\n",
        "    parsed_llm_output[\"parsed_query_info\"] = parsed_query_info\n",
        "\n",
        "    return parsed_llm_output\n",
        "\n",
        "\n",
        "def process_multiple_rag_queries(queries_list):\n",
        "    results = []\n",
        "\n",
        "    for i, query in enumerate(queries_list):\n",
        "        result = process_entity_centric_rag_query(query)\n",
        "        results.append(result)\n",
        "\n",
        "    return results"
      ],
      "metadata": {
        "id": "4ad2v7yxzdiu"
      },
      "execution_count": 129,
      "outputs": []
    },
    {
      "cell_type": "markdown",
      "source": [
        "#### Testing across different queries"
      ],
      "metadata": {
        "id": "0gvUaXHeIAWM"
      }
    },
    {
      "cell_type": "code",
      "source": [
        "queries = [\n",
        "    \"What is the diagnosis for patient P001?\",\n",
        "    \"Tell me about HPO term Areflexia\",\n",
        "    \"lower back pain radiating to the leg\"\n",
        "]\n",
        "\n",
        "results = process_multiple_rag_queries(queries)\n",
        "\n",
        "for result in results:\n",
        "    #print(f\"Query: {result['query']}\")\n",
        "    print(f\"Query: {result['query']}\")\n",
        "    print(f\"Analysis: {result['analysis']} \\n\")\n",
        "    print(f\"Query info: {json.dumps(result['parsed_query_info'], indent=2, ensure_ascii=False)} \\n\")\n",
        "    print(f\"Thinking process: {result['thinking_process']} \\n\")\n",
        "    print(\"-\" * 50 + \"\\n\")"
      ],
      "metadata": {
        "colab": {
          "base_uri": "https://localhost:8080/"
        },
        "id": "eUpsUDYuI58x",
        "outputId": "621437d8-ae85-4a2d-c052-291c0f35874b"
      },
      "execution_count": 130,
      "outputs": [
        {
          "output_type": "stream",
          "name": "stdout",
          "text": [
            "Query: What is the diagnosis for patient P001?\n",
            "Analysis: Based on the patient record for P001, the potential diagnoses are spinal stenosis or herniated disc. The patient presents with right lower back pain radiating to the right lower limb, numbness in both feet, pain worsening with standing/walking, and pain relief with sitting/leaning forward, which are consistent with these conditions. \n",
            "\n",
            "Query info: {\n",
            "  \"target_patient_id\": \"P001\",\n",
            "  \"entity_descriptive_attributes\": {\n",
            "    \"key_symptoms_from_query\": []\n",
            "  },\n",
            "  \"core_search_phrase\": \"diagnosis for patient\",\n",
            "  \"mentioned_hpo_or_condition_terms\": []\n",
            "} \n",
            "\n",
            "Thinking process: Analysis based on the provided record for Patient P001. \n",
            "\n",
            "--------------------------------------------------\n",
            "\n",
            "Query: Tell me about HPO term Areflexia\n",
            "Analysis: Areflexia (HPO:0001284) refers to the absence of neurologic reflexes, such as the knee-jerk reaction. Common symptoms associated with areflexia include absent reflexes, absent deep tendon reflexes, and absent tendon reflexes. Differentiating symptoms include deep tendon reflexes absent, loss of deep tendon reflexes, and lost deep tendon reflexes. \n",
            "\n",
            "Query info: {\n",
            "  \"target_patient_id\": null,\n",
            "  \"entity_descriptive_attributes\": {\n",
            "    \"key_symptoms_from_query\": []\n",
            "  },\n",
            "  \"core_search_phrase\": \"information about Areflexia\",\n",
            "  \"mentioned_hpo_or_condition_terms\": [\n",
            "    \"Areflexia\"\n",
            "  ]\n",
            "} \n",
            "\n",
            "Thinking process: Analysis based on HPO information for Areflexia as no specific patient context was provided or relevant. \n",
            "\n",
            "--------------------------------------------------\n",
            "\n",
            "Query: lower back pain radiating to the leg\n",
            "Analysis: Lower back pain radiating to the leg can be indicative of several conditions. Without further information, it's difficult to pinpoint the exact cause. Possible causes include sciatica (nerve compression), herniated disc, spinal stenosis, or muscle strain. Further evaluation, including a physical exam and potentially imaging studies, is needed for diagnosis. \n",
            "\n",
            "Query info: {\n",
            "  \"target_patient_id\": null,\n",
            "  \"entity_descriptive_attributes\": {\n",
            "    \"key_symptoms_from_query\": [\n",
            "      \"lower back pain\",\n",
            "      \"radiating leg pain\"\n",
            "    ]\n",
            "  },\n",
            "  \"core_search_phrase\": \"lower back pain radiating to the leg\",\n",
            "  \"mentioned_hpo_or_condition_terms\": [\n",
            "    \"lower back pain\"\n",
            "  ]\n",
            "} \n",
            "\n",
            "Thinking process: Analysis based on general knowledge of lower back pain radiating to the leg, as no specific patient context or HPO information was provided. \n",
            "\n",
            "--------------------------------------------------\n",
            "\n"
          ]
        }
      ]
    },
    {
      "cell_type": "markdown",
      "source": [
        "### Conclusion\n",
        "\n",
        "We demonstrated an entity-centric Retrieval-Augmented Generation (RAG) system for healthcare, leveraging Vertex AI's Gemini for intelligent metadata extraction, query parsing, and response generation, alongside its Text Embedding Model and ChromaDB for robust entity-storage.\n",
        "\n",
        "By implementing MES-RAG and MedRAG principles, such as dynamic metadata enrichment and Human Phenotype Ontology (HPO) knowledge graph integration, the system effectively mitigated the \"Confusion Among Similar Entities\" (CASE) problem, ensuring precise, patient-focused context retrieval that significantly outperformed naive RAG approaches.\n",
        "\n",
        "This structured, entity-aware methodology establishes a strong foundation for developing more accurate and reliable AI-driven clinical decision support tools, enhancing information management and diagnostic accuracy in complex medical scenarios."
      ],
      "metadata": {
        "id": "ETPj1-aNKyTX"
      }
    }
  ]
}